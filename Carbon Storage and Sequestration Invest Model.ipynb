{
 "metadata": {
  "celltoolbar": "Edit Metadata",
  "name": "",
  "signature": "sha256:5ca47749fb5a54b57281c2a847d10e4fc85f9a36c7dd38793198dc20e935aecc"
 },
 "nbformat": 3,
 "nbformat_minor": 0,
 "worksheets": [
  {
   "cells": [
    {
     "cell_type": "heading",
     "level": 1,
     "metadata": {},
     "source": [
      "Background: Carbon Storage and Sequestration"
     ]
    },
    {
     "cell_type": "markdown",
     "metadata": {},
     "source": [
      "* Many ecosystems store carbon and sequester more carbon over time\n",
      "* Carbon storage/sequestration has a value to society: ecosystem service\n",
      "    * it influences carbon dioxide-driven climate change\n",
      "* SOCIAL VALUE: based on cost to society of CO2 released into the atmosphere \n",
      "    * estimates range from USD \\$9.55 to \\$84.55 per metric ton of CO2 released\n",
      "* MARKET VALUE: due to Kyoto Treaty, Carbon Exchanges, etc.\n"
     ]
    },
    {
     "cell_type": "heading",
     "level": 1,
     "metadata": {},
     "source": [
      "What Does the InVest Model Do?"
     ]
    },
    {
     "cell_type": "markdown",
     "metadata": {},
     "source": [
      "* Values the amount of carbon currently stored in a study area \n",
      "* Estimates the amount of carbon sequestered over time\n",
      "* Estimates the market/social value of the carbon stored or sequestered\n"
     ]
    },
    {
     "cell_type": "heading",
     "level": 1,
     "metadata": {},
     "source": [
      "How Does the InVest Model Work?"
     ]
    },
    {
     "cell_type": "markdown",
     "metadata": {},
     "source": [
      " * Uses 5 carbon pools to estimate stored carbon: \n",
      "    * Aboveground living biomass\n",
      "    * Belowground living biomass\n",
      "    * Soil\n",
      "    * Dead organic matter\n",
      "    * Optional: harvested forest biomass\n",
      " * Uses Land Cover/Land Use Change maps to estimate sequestration\n",
      " * Estimates MARKET and SOCIAL values\n",
      "    * Market Value = 5 pools x price/ton (discounted)\n",
      "    * Social Value = 5 pools x social value/ton (discounted)\n",
      "\n"
     ]
    },
    {
     "cell_type": "heading",
     "level": 1,
     "metadata": {},
     "source": [
      "Limitations of the Model"
     ]
    },
    {
     "cell_type": "markdown",
     "metadata": {},
     "source": [
      "* oversimplified carbon cycle\n",
      "* assumed linear change in carbon sequestration over time\n",
      "* potentially inaccurate discounting rates\n"
     ]
    },
    {
     "cell_type": "heading",
     "level": 1,
     "metadata": {},
     "source": [
      "Model Input Data Needed"
     ]
    },
    {
     "cell_type": "heading",
     "level": 3,
     "metadata": {},
     "source": [
      "    Land Cover Land Use Rasters"
     ]
    },
    {
     "cell_type": "markdown",
     "metadata": {},
     "source": [
      "* Three Land Cover/Land Use Rasters:\n",
      "    * Current Land Cover / Land Use\n",
      "    * Predicted Future Land Use / Land Cover\n",
      "    * OPTIONAL: Future Land Use / Land Cover assuming REDD policy implementation\n",
      "* Format: standard GIS raster file (e.g., ESRI GRID or IMG)\n",
      "* LULC class code for each cell (e.g., 1 for forest, 3 for grassland, etc.) \n",
      "    * must match LULC codes provided\n",
      "* Projected in meters, with projection defined\n"
     ]
    },
    {
     "cell_type": "heading",
     "level": 3,
     "metadata": {},
     "source": [
      "Carbon Pools Table"
     ]
    },
    {
     "cell_type": "markdown",
     "metadata": {},
     "source": [
      "* **File type**: \\*.csv or \\*.dbf\n",
      "* **Rows**: each row is assigned a LULC class\n",
      "* **Columns**: each column contains a different attribute of each LULC class\n",
      "    * lucode: code of land use/land cover class (e.g., 1 for forest, 3 for grassland, etc.). \n",
      "    * LULC_name: descriptive name of LULC class (optional)\n",
      "* **Data source options**:\n",
      "    * collected from field estimates from local plot studies\n",
      "    * extracted from meta-analyses on specific habitat types or regions\n",
      "    * found in general published tables (e.g., IPCC)\n"
     ]
    },
    {
     "cell_type": "heading",
     "level": 1,
     "metadata": {},
     "source": [
      "Model Output"
     ]
    },
    {
     "cell_type": "markdown",
     "metadata": {},
     "source": [
      "* **summary.html**: summary of data and output files\n",
      "* **Parameter log**: parameter values used\n",
      "* **tot_C_cur**: the amount of carbon currently stored in Mg in each grid cell at the chosen resolution\n",
      "* **tot_C_fut**: the total amount of carbon that will be stored in each parcel under your future landscape scenario\n",
      "* **Sequest**: maps the difference in carbon stored between the future landscape and the current landscape\n",
      "* **value_seq**: maps the economic value of carbon sequestered"
     ]
    },
    {
     "cell_type": "heading",
     "level": 1,
     "metadata": {},
     "source": [
      "Pseudocode: Importing Data"
     ]
    },
    {
     "cell_type": "heading",
     "level": 3,
     "metadata": {},
     "source": [
      "1. Read in LCLU rasters and validate them."
     ]
    },
    {
     "cell_type": "markdown",
     "metadata": {},
     "source": [
      "FOR three LCLU files:\n",
      "    \n",
      "    READ filetype\n",
      "    READ resolution\n",
      "    READ projection \n",
      "    IF filename IS VALID:        \n",
      "        CONTINUE       \n",
      "    ELSE:\n",
      "        PRINT \"filename not valid\"\n",
      "    ENDIF\n",
      "    IF filetype IS raster:\n",
      "        CONTINUE\n",
      "    ELSE:\n",
      "        PRINT \"file is not a raster\"\n",
      "    ENDIF\n",
      "    IF resolution IS in meters:\n",
      "        CONTINUE\n",
      "    ELSE:\n",
      "        PRINT \"Resolution is not in meters.\"\n",
      "    IF projection IS defined:\n",
      "        CONTINUE\n",
      "    ELSE:\n",
      "        PRINT \"Projection is undefined.\"\n",
      "    ENDIF\n",
      "    IF LULC categorization matches standard codes:\n",
      "        CONTINUE\n",
      "    ELSE:\n",
      "        PRINT \"Please reformat map to match required LCLU codes\"\n",
      "    ENDIF\n",
      "ENDFOR"
     ]
    },
    {
     "cell_type": "heading",
     "level": 3,
     "metadata": {},
     "source": [
      "2. Make sure rasters all use the same projection."
     ]
    },
    {
     "cell_type": "markdown",
     "metadata": {},
     "source": [
      "    IF rasters don't use the same projection:\n",
      "        REPROJECT rasters\n",
      "    ENDIF"
     ]
    },
    {
     "cell_type": "heading",
     "level": 3,
     "metadata": {},
     "source": [
      "3. Read in carbon pools table and validate data."
     ]
    },
    {
     "cell_type": "markdown",
     "metadata": {},
     "source": [
      "    READ carbon pools file\n",
      "    IF filetype iIS .csv or .dbf:\n",
      "        CONTINUE\n",
      "    ELSE\n",
      "        PRINT \"file type not valid.\"\n",
      "    ENDIF\n",
      "\n",
      "    READ each column name\n",
      "    IF columns include LULC; LULC_Name; C_above; C_below; C_soil; C_dead:\n",
      "        CONTINUE\n",
      "    ELSE:\n",
      "        PRINT \"please reformat/rename columns.\"\n",
      "    ENDIF\n",
      "\n",
      "    READ LULC values\n",
      "    IF values match LULC codes provided:\n",
      "        CONTINUE\n",
      "    ELSE:\n",
      "        PRINT \"Please recode LULC values to match required codes.\"\n",
      "    ENDIF"
     ]
    }
   ],
   "metadata": {}
  }
 ]
}