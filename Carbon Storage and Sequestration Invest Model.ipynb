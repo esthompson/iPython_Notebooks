{
 "metadata": {
  "name": "",
  "signature": "sha256:b18f9a83fa22e0269335d3cbcabd20389c21260eef1000c6f5cd6af3f57a9a22"
 },
 "nbformat": 3,
 "nbformat_minor": 0,
 "worksheets": [
  {
   "cells": [
    {
     "cell_type": "code",
     "collapsed": false,
     "input": [],
     "language": "python",
     "metadata": {},
     "outputs": []
    }
   ],
   "metadata": {}
  }
 ]
}